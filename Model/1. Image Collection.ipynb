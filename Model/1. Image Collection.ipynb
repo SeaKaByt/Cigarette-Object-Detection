{
 "cells": [
  {
   "attachments": {},
   "cell_type": "markdown",
   "metadata": {},
   "source": [
    "# 1. Import Dependencies"
   ]
  },
  {
   "cell_type": "code",
   "execution_count": 22,
   "metadata": {},
   "outputs": [
    {
     "name": "stdout",
     "output_type": "stream",
     "text": [
      "Requirement already satisfied: opencv-python in g:\\tool\\anaconda 3\\lib\\site-packages (4.7.0.72)\n",
      "Requirement already satisfied: numpy>=1.17.0 in g:\\tool\\anaconda 3\\lib\\site-packages (from opencv-python) (1.23.5)\n"
     ]
    },
    {
     "name": "stderr",
     "output_type": "stream",
     "text": [
      "WARNING: Ignoring invalid distribution -rotobuf (g:\\tool\\anaconda 3\\lib\\site-packages)\n",
      "WARNING: Ignoring invalid distribution -rotobuf (g:\\tool\\anaconda 3\\lib\\site-packages)\n",
      "WARNING: Ignoring invalid distribution -rotobuf (g:\\tool\\anaconda 3\\lib\\site-packages)\n",
      "WARNING: Ignoring invalid distribution -rotobuf (g:\\tool\\anaconda 3\\lib\\site-packages)\n",
      "WARNING: Ignoring invalid distribution -rotobuf (g:\\tool\\anaconda 3\\lib\\site-packages)\n",
      "WARNING: Ignoring invalid distribution -rotobuf (g:\\tool\\anaconda 3\\lib\\site-packages)\n"
     ]
    }
   ],
   "source": [
    "!pip install opencv-python"
   ]
  },
  {
   "cell_type": "code",
   "execution_count": 1,
   "metadata": {},
   "outputs": [],
   "source": [
    "# Import opencv\n",
    "import cv2 \n",
    "\n",
    "# Import uuid\n",
    "import uuid\n",
    "\n",
    "# Import Operating System\n",
    "import os\n",
    "\n",
    "# Import time\n",
    "import time"
   ]
  },
  {
   "attachments": {},
   "cell_type": "markdown",
   "metadata": {},
   "source": [
    "# 2. Define Images to Collect"
   ]
  },
  {
   "cell_type": "code",
   "execution_count": 18,
   "metadata": {},
   "outputs": [],
   "source": [
    "labels = ['cigarette', 'person']\n",
    "labels = ['cigarette']\n",
    "number_imgs = 10"
   ]
  },
  {
   "attachments": {},
   "cell_type": "markdown",
   "metadata": {},
   "source": [
    "# 3. Setup Folders "
   ]
  },
  {
   "cell_type": "code",
   "execution_count": 4,
   "metadata": {},
   "outputs": [
    {
     "data": {
      "text/plain": [
       "'Tensorflow\\\\workspace\\\\images\\\\collectedimages'"
      ]
     },
     "execution_count": 4,
     "metadata": {},
     "output_type": "execute_result"
    }
   ],
   "source": [
    "IMAGES_PATH = os.path.join('Tensorflow', 'workspace', 'images', 'collectedimages')\n",
    "IMAGES_PATH"
   ]
  },
  {
   "cell_type": "code",
   "execution_count": 18,
   "metadata": {},
   "outputs": [],
   "source": [
    "if not os.path.exists(IMAGES_PATH):\n",
    "    if os.name == 'posix':\n",
    "        !mkdir -p {IMAGES_PATH}\n",
    "    if os.name == 'nt':\n",
    "         !mkdir {IMAGES_PATH}\n",
    "for label in labels:\n",
    "    path = os.path.join(IMAGES_PATH, label)\n",
    "    if not os.path.exists(path):\n",
    "        !mkdir {path}"
   ]
  },
  {
   "attachments": {},
   "cell_type": "markdown",
   "metadata": {},
   "source": [
    "# 4. Capture Images"
   ]
  },
  {
   "cell_type": "code",
   "execution_count": 19,
   "metadata": {
    "scrolled": true
   },
   "outputs": [
    {
     "name": "stdout",
     "output_type": "stream",
     "text": [
      "Collecting images for cigarette\n",
      "Collecting image 0\n",
      "Collecting image 1\n",
      "Collecting image 2\n",
      "Collecting image 3\n",
      "Collecting image 4\n",
      "Collecting image 5\n",
      "Collecting image 6\n",
      "Collecting image 7\n",
      "Collecting image 8\n",
      "Collecting image 9\n"
     ]
    }
   ],
   "source": [
    "for label in labels:\n",
    "    cap = cv2.VideoCapture(0)\n",
    "    print('Collecting images for {}'.format(label))\n",
    "    time.sleep(5)\n",
    "    for imgnum in range(number_imgs):\n",
    "        print('Collecting image {}'.format(imgnum))\n",
    "        ret, frame = cap.read()\n",
    "        imgname = os.path.join(IMAGES_PATH,label,label+'.'+'{}.jpg'.format(str(uuid.uuid1())))\n",
    "        cv2.imwrite(imgname, frame)\n",
    "        cv2.imshow('frame', frame)\n",
    "        time.sleep(2)\n",
    "\n",
    "        if cv2.waitKey(1) & 0xFF == ord('q'):\n",
    "            break\n",
    "cap.release()\n",
    "cv2.destroyAllWindows()"
   ]
  },
  {
   "attachments": {},
   "cell_type": "markdown",
   "metadata": {},
   "source": [
    "# 5. Image Labelling"
   ]
  },
  {
   "cell_type": "code",
   "execution_count": null,
   "metadata": {},
   "outputs": [],
   "source": [
    "!pip install --upgrade pyqt5 lxml"
   ]
  },
  {
   "cell_type": "code",
   "execution_count": 9,
   "metadata": {},
   "outputs": [],
   "source": [
    "LABELIMG_PATH = os.path.join('Tensorflow', 'labelimg')"
   ]
  },
  {
   "cell_type": "code",
   "execution_count": null,
   "metadata": {},
   "outputs": [],
   "source": [
    "if not os.path.exists(LABELIMG_PATH):\n",
    "    !mkdir {LABELIMG_PATH}\n",
    "    !git clone https://github.com/tzutalin/labelImg {LABELIMG_PATH}"
   ]
  },
  {
   "cell_type": "code",
   "execution_count": null,
   "metadata": {},
   "outputs": [],
   "source": [
    "if os.name == 'posix':\n",
    "    !make qt5py3\n",
    "if os.name =='nt':\n",
    "    !cd {LABELIMG_PATH} && pyrcc5 -o libs/resources.py resources.qrc"
   ]
  },
  {
   "cell_type": "code",
   "execution_count": 20,
   "metadata": {},
   "outputs": [
    {
     "name": "stdout",
     "output_type": "stream",
     "text": [
      "Image:E:\\VTC\\UWE\\Project\\TFOD\\Tensorflow\\workspace\\images\\collectedimages\\cigarette\\cigarette.5a7ca001-ddd9-11ed-8b41-047f0e21482b.jpg -> Annotation:E:/VTC/UWE/Project/TFOD/Tensorflow/workspace/images/collectedimages/cigarette\\cigarette.5a7ca001-ddd9-11ed-8b41-047f0e21482b.xml\n",
      "Image:E:\\VTC\\UWE\\Project\\TFOD\\Tensorflow\\workspace\\images\\collectedimages\\cigarette\\cigarette.5bb07c81-ddd9-11ed-af0e-047f0e21482b.jpg -> Annotation:E:/VTC/UWE/Project/TFOD/Tensorflow/workspace/images/collectedimages/cigarette\\cigarette.5bb07c81-ddd9-11ed-af0e-047f0e21482b.xml\n",
      "Image:E:\\VTC\\UWE\\Project\\TFOD\\Tensorflow\\workspace\\images\\collectedimages\\cigarette\\cigarette.5ce69531-ddd9-11ed-88e9-047f0e21482b.jpg -> Annotation:E:/VTC/UWE/Project/TFOD/Tensorflow/workspace/images/collectedimages/cigarette\\cigarette.5ce69531-ddd9-11ed-88e9-047f0e21482b.xml\n",
      "Image:E:\\VTC\\UWE\\Project\\TFOD\\Tensorflow\\workspace\\images\\collectedimages\\cigarette\\cigarette.5e1b68e1-ddd9-11ed-9005-047f0e21482b.jpg -> Annotation:E:/VTC/UWE/Project/TFOD/Tensorflow/workspace/images/collectedimages/cigarette\\cigarette.5e1b68e1-ddd9-11ed-9005-047f0e21482b.xml\n",
      "Image:E:\\VTC\\UWE\\Project\\TFOD\\Tensorflow\\workspace\\images\\collectedimages\\cigarette\\cigarette.5f51431b-ddd9-11ed-8fff-047f0e21482b.jpg -> Annotation:E:/VTC/UWE/Project/TFOD/Tensorflow/workspace/images/collectedimages/cigarette\\cigarette.5f51431b-ddd9-11ed-8fff-047f0e21482b.xml\n",
      "Image:E:\\VTC\\UWE\\Project\\TFOD\\Tensorflow\\workspace\\images\\collectedimages\\cigarette\\cigarette.61bdfb69-ddd9-11ed-af18-047f0e21482b.jpg -> Annotation:E:/VTC/UWE/Project/TFOD/Tensorflow/workspace/images/collectedimages/cigarette\\cigarette.61bdfb69-ddd9-11ed-af18-047f0e21482b.xml\n",
      "Image:E:\\VTC\\UWE\\Project\\TFOD\\Tensorflow\\workspace\\images\\collectedimages\\cigarette\\cigarette.6087e250-ddd9-11ed-96a3-047f0e21482b.jpg -> Annotation:E:/VTC/UWE/Project/TFOD/Tensorflow/workspace/images/collectedimages/cigarette\\cigarette.6087e250-ddd9-11ed-96a3-047f0e21482b.xml\n",
      "Image:E:\\VTC\\UWE\\Project\\TFOD\\Tensorflow\\workspace\\images\\collectedimages\\cigarette\\cigarette.594658c0-ddd9-11ed-b02d-047f0e21482b.jpg -> Annotation:E:/VTC/UWE/Project/TFOD/Tensorflow/workspace/images/collectedimages/cigarette\\cigarette.594658c0-ddd9-11ed-b02d-047f0e21482b.xml\n"
     ]
    }
   ],
   "source": [
    "!cd {LABELIMG_PATH} && python labelImg.py"
   ]
  }
 ],
 "metadata": {
  "kernelspec": {
   "display_name": "tfod",
   "language": "python",
   "name": "tfod"
  },
  "language_info": {
   "codemirror_mode": {
    "name": "ipython",
    "version": 3
   },
   "file_extension": ".py",
   "mimetype": "text/x-python",
   "name": "python",
   "nbconvert_exporter": "python",
   "pygments_lexer": "ipython3",
   "version": "3.10.9"
  }
 },
 "nbformat": 4,
 "nbformat_minor": 2
}
